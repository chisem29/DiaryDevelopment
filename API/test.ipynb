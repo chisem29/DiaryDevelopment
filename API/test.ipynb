{
 "cells": [
  {
   "cell_type": "markdown",
   "metadata": {},
   "source": [
    "## ШПАРГАЛКА"
   ]
  },
  {
   "cell_type": "code",
   "execution_count": 1,
   "metadata": {},
   "outputs": [],
   "source": [
    "import pandas as pd"
   ]
  },
  {
   "cell_type": "code",
   "execution_count": 2,
   "metadata": {},
   "outputs": [],
   "source": [
    "def getBasicLessonsData(name) :\n",
    "\n",
    "    data = pd.read_excel(f'data/{name}.xlsx')\n",
    "\n",
    "    basicColumns = data.columns.tolist()[1::8]\n",
    "\n",
    "    data.columns =  [data.columns.tolist()[0]] + list(zip([col for col in basicColumns for _ in range(8)], data.iloc[0, 1:]))\n",
    "\n",
    "    data.drop(0, inplace=True)\n",
    "\n",
    "    data.set_index(data.columns.tolist()[0], inplace=True)\n",
    "\n",
    "    return data"
   ]
  },
  {
   "cell_type": "code",
   "execution_count": null,
   "metadata": {},
   "outputs": [
    {
     "data": {
      "text/html": [
       "<div>\n",
       "<style scoped>\n",
       "    .dataframe tbody tr th:only-of-type {\n",
       "        vertical-align: middle;\n",
       "    }\n",
       "\n",
       "    .dataframe tbody tr th {\n",
       "        vertical-align: top;\n",
       "    }\n",
       "\n",
       "    .dataframe thead th {\n",
       "        text-align: right;\n",
       "    }\n",
       "</style>\n",
       "<table border=\"1\" class=\"dataframe\">\n",
       "  <thead>\n",
       "    <tr style=\"text-align: right;\">\n",
       "      <th></th>\n",
       "      <th>(Понедельник, 1)</th>\n",
       "      <th>(Понедельник, 2)</th>\n",
       "      <th>(Понедельник, 3)</th>\n",
       "      <th>(Понедельник, 4)</th>\n",
       "      <th>(Понедельник, 5)</th>\n",
       "      <th>(Понедельник, 6)</th>\n",
       "      <th>(Понедельник, 7)</th>\n",
       "      <th>(Понедельник, 8)</th>\n",
       "      <th>(Вторник, 1)</th>\n",
       "      <th>(Вторник, 2)</th>\n",
       "      <th>...</th>\n",
       "      <th>(Четверг, 7)</th>\n",
       "      <th>(Четверг, 8.0)</th>\n",
       "      <th>(Пятница, 1)</th>\n",
       "      <th>(Пятница, 2)</th>\n",
       "      <th>(Пятница, 3)</th>\n",
       "      <th>(Пятница, 4)</th>\n",
       "      <th>(Пятница, 5)</th>\n",
       "      <th>(Пятница, 6)</th>\n",
       "      <th>(Пятница, 7)</th>\n",
       "      <th>(Пятница, 8.0)</th>\n",
       "    </tr>\n",
       "    <tr>\n",
       "      <th>Класс</th>\n",
       "      <th></th>\n",
       "      <th></th>\n",
       "      <th></th>\n",
       "      <th></th>\n",
       "      <th></th>\n",
       "      <th></th>\n",
       "      <th></th>\n",
       "      <th></th>\n",
       "      <th></th>\n",
       "      <th></th>\n",
       "      <th></th>\n",
       "      <th></th>\n",
       "      <th></th>\n",
       "      <th></th>\n",
       "      <th></th>\n",
       "      <th></th>\n",
       "      <th></th>\n",
       "      <th></th>\n",
       "      <th></th>\n",
       "      <th></th>\n",
       "      <th></th>\n",
       "    </tr>\n",
       "  </thead>\n",
       "  <tbody>\n",
       "    <tr>\n",
       "      <th>5а</th>\n",
       "      <td>ВД\\n38</td>\n",
       "      <td>мат\\n38</td>\n",
       "      <td>муз\\n3</td>\n",
       "      <td>геог\\n29</td>\n",
       "      <td>анг\\n30</td>\n",
       "      <td>рус\\n48</td>\n",
       "      <td>NaN</td>\n",
       "      <td>NaN</td>\n",
       "      <td>ист\\n3</td>\n",
       "      <td>рус\\n48</td>\n",
       "      <td>...</td>\n",
       "      <td>NaN</td>\n",
       "      <td>NaN</td>\n",
       "      <td>труд\\n49</td>\n",
       "      <td>рус\\n48</td>\n",
       "      <td>мат\\n38</td>\n",
       "      <td>чт гр\\n56</td>\n",
       "      <td>лит\\n48</td>\n",
       "      <td>ф-р а\\nмсз</td>\n",
       "      <td>NaN</td>\n",
       "      <td>NaN</td>\n",
       "    </tr>\n",
       "    <tr>\n",
       "      <th>5б</th>\n",
       "      <td>ВД\\n48</td>\n",
       "      <td>рус\\n48</td>\n",
       "      <td>мат\\n21</td>\n",
       "      <td>ист\\n3</td>\n",
       "      <td>лит\\n48</td>\n",
       "      <td>муз\\n3</td>\n",
       "      <td>анг\\n54</td>\n",
       "      <td>NaN</td>\n",
       "      <td>рус\\n48</td>\n",
       "      <td>мат\\n21</td>\n",
       "      <td>...</td>\n",
       "      <td>NaN</td>\n",
       "      <td>NaN</td>\n",
       "      <td>чт гр\\n56</td>\n",
       "      <td>ф-р а\\nбсз</td>\n",
       "      <td>рус\\n48</td>\n",
       "      <td>труд\\n49</td>\n",
       "      <td>анг\\n47</td>\n",
       "      <td>мат\\n21</td>\n",
       "      <td>NaN</td>\n",
       "      <td>NaN</td>\n",
       "    </tr>\n",
       "    <tr>\n",
       "      <th>5в</th>\n",
       "      <td>ВД\\n45</td>\n",
       "      <td>мат\\n47</td>\n",
       "      <td>рус\\n41</td>\n",
       "      <td>ист\\n45</td>\n",
       "      <td>муз\\n3</td>\n",
       "      <td>геог\\n29</td>\n",
       "      <td>NaN</td>\n",
       "      <td>NaN</td>\n",
       "      <td>рус\\n41</td>\n",
       "      <td>мат\\n34</td>\n",
       "      <td>...</td>\n",
       "      <td>NaN</td>\n",
       "      <td>NaN</td>\n",
       "      <td>био\\n47</td>\n",
       "      <td>мат\\n54</td>\n",
       "      <td>изо\\n26</td>\n",
       "      <td>анг\\n48</td>\n",
       "      <td>рус\\n41</td>\n",
       "      <td>лит\\n41</td>\n",
       "      <td>NaN</td>\n",
       "      <td>NaN</td>\n",
       "    </tr>\n",
       "    <tr>\n",
       "      <th>6а</th>\n",
       "      <td>ВД\\n49</td>\n",
       "      <td>мат\\n21</td>\n",
       "      <td>геог\\n29</td>\n",
       "      <td>рус\\n56</td>\n",
       "      <td>лит\\n56</td>\n",
       "      <td>труд\\n49</td>\n",
       "      <td>однк нр\\n3</td>\n",
       "      <td>NaN</td>\n",
       "      <td>рус\\n56</td>\n",
       "      <td>анг\\n30</td>\n",
       "      <td>...</td>\n",
       "      <td>NaN</td>\n",
       "      <td>NaN</td>\n",
       "      <td>мат\\n21</td>\n",
       "      <td>рус\\n56</td>\n",
       "      <td>общ\\n46</td>\n",
       "      <td>ф-р а\\nбсз</td>\n",
       "      <td>рус\\n56</td>\n",
       "      <td>анг\\n30</td>\n",
       "      <td>NaN</td>\n",
       "      <td>NaN</td>\n",
       "    </tr>\n",
       "    <tr>\n",
       "      <th>6в</th>\n",
       "      <td>ВД\\n21</td>\n",
       "      <td>однк нр\\n3</td>\n",
       "      <td>труд\\n49</td>\n",
       "      <td>ист\\n46</td>\n",
       "      <td>рус\\n42</td>\n",
       "      <td>мат\\n21</td>\n",
       "      <td>лит\\n42</td>\n",
       "      <td>NaN</td>\n",
       "      <td>мат\\n21</td>\n",
       "      <td>рус\\n42</td>\n",
       "      <td>...</td>\n",
       "      <td>NaN</td>\n",
       "      <td>NaN</td>\n",
       "      <td>рус\\n42</td>\n",
       "      <td>анг\\n50</td>\n",
       "      <td>мат\\n21</td>\n",
       "      <td>изо\\n26</td>\n",
       "      <td>лит\\n42</td>\n",
       "      <td>ф-р а\\nбсз</td>\n",
       "      <td>NaN</td>\n",
       "      <td>NaN</td>\n",
       "    </tr>\n",
       "  </tbody>\n",
       "</table>\n",
       "<p>5 rows × 40 columns</p>\n",
       "</div>"
      ],
      "text/plain": [
       "      (Понедельник, 1) (Понедельник, 2) (Понедельник, 3) (Понедельник, 4)  \\\n",
       "Класс                                                                       \n",
       "5а              ВД\\n38          мат\\n38           муз\\n3         геог\\n29   \n",
       "5б              ВД\\n48          рус\\n48          мат\\n21           ист\\n3   \n",
       "5в              ВД\\n45          мат\\n47          рус\\n41          ист\\n45   \n",
       "6а              ВД\\n49          мат\\n21         геог\\n29          рус\\n56   \n",
       "6в              ВД\\n21       однк нр\\n3         труд\\n49          ист\\n46   \n",
       "\n",
       "      (Понедельник, 5) (Понедельник, 6) (Понедельник, 7) (Понедельник, 8)  \\\n",
       "Класс                                                                       \n",
       "5а             анг\\n30          рус\\n48              NaN              NaN   \n",
       "5б             лит\\n48           муз\\n3          анг\\n54              NaN   \n",
       "5в              муз\\n3         геог\\n29              NaN              NaN   \n",
       "6а             лит\\n56         труд\\n49       однк нр\\n3              NaN   \n",
       "6в             рус\\n42          мат\\n21          лит\\n42              NaN   \n",
       "\n",
       "      (Вторник, 1) (Вторник, 2)  ... (Четверг, 7) (Четверг, 8.0) (Пятница, 1)  \\\n",
       "Класс                            ...                                            \n",
       "5а          ист\\n3      рус\\n48  ...          NaN            NaN     труд\\n49   \n",
       "5б         рус\\n48      мат\\n21  ...          NaN            NaN    чт гр\\n56   \n",
       "5в         рус\\n41      мат\\n34  ...          NaN            NaN      био\\n47   \n",
       "6а         рус\\n56      анг\\n30  ...          NaN            NaN      мат\\n21   \n",
       "6в         мат\\n21      рус\\n42  ...          NaN            NaN      рус\\n42   \n",
       "\n",
       "      (Пятница, 2) (Пятница, 3) (Пятница, 4) (Пятница, 5) (Пятница, 6)  \\\n",
       "Класс                                                                    \n",
       "5а         рус\\n48      мат\\n38    чт гр\\n56      лит\\n48   ф-р а\\nмсз   \n",
       "5б      ф-р а\\nбсз      рус\\n48     труд\\n49      анг\\n47      мат\\n21   \n",
       "5в         мат\\n54      изо\\n26      анг\\n48      рус\\n41      лит\\n41   \n",
       "6а         рус\\n56      общ\\n46   ф-р а\\nбсз      рус\\n56      анг\\n30   \n",
       "6в         анг\\n50      мат\\n21      изо\\n26      лит\\n42   ф-р а\\nбсз   \n",
       "\n",
       "      (Пятница, 7) (Пятница, 8.0)  \n",
       "Класс                              \n",
       "5а             NaN            NaN  \n",
       "5б             NaN            NaN  \n",
       "5в             NaN            NaN  \n",
       "6а             NaN            NaN  \n",
       "6в             NaN            NaN  \n",
       "\n",
       "[5 rows x 40 columns]"
      ]
     },
     "execution_count": 5,
     "metadata": {},
     "output_type": "execute_result"
    }
   ],
   "source": [
    "data = getBasicLessonsData('data')\n",
    "\n",
    "data.head()"
   ]
  },
  {
   "cell_type": "code",
   "execution_count": 15,
   "metadata": {},
   "outputs": [
    {
     "data": {
      "text/plain": [
       "['а', 'б', 'в']"
      ]
     },
     "execution_count": 15,
     "metadata": {},
     "output_type": "execute_result"
    }
   ],
   "source": [
    "n = 5\n",
    "[cl[-1] for cl in data.index.tolist() if str(n) == cl[:-1]]"
   ]
  },
  {
   "cell_type": "code",
   "execution_count": 26,
   "metadata": {},
   "outputs": [
    {
     "data": {
      "text/plain": [
       "['5а',\n",
       " '5б',\n",
       " '5в',\n",
       " '6а',\n",
       " '6в',\n",
       " '6г',\n",
       " '7а',\n",
       " '7б',\n",
       " '7в',\n",
       " '8а',\n",
       " '8б',\n",
       " '9а',\n",
       " '9б',\n",
       " '9в',\n",
       " '9г',\n",
       " '10а',\n",
       " '10б',\n",
       " '11а',\n",
       " '11б',\n",
       " '11в']"
      ]
     },
     "execution_count": 26,
     "metadata": {},
     "output_type": "execute_result"
    }
   ],
   "source": [
    "import numpy as np\n",
    "\n",
    "sorted(list(map(int, set(np.array(list(map(lambda x : [x[:-1], x[-1]], data.index.tolist()))).T[0].tolist()))))\n",
    "\n",
    "data.index.tolist()"
   ]
  },
  {
   "cell_type": "code",
   "execution_count": null,
   "metadata": {},
   "outputs": [],
   "source": [
    "list(map(lambda x : sorted(list(set(x)), key=lambda x : int(x) if x.isdigit() else x), np.array(list(map(lambda x : [x[:-1], x[-1]], data.index.tolist()))).T.tolist()))"
   ]
  },
  {
   "cell_type": "code",
   "execution_count": 21,
   "metadata": {},
   "outputs": [
    {
     "name": "stdout",
     "output_type": "stream",
     "text": [
      "[['5' '5' '5' '6' '6' '6' '7' '7' '7' '8' '8' '9' '9' '9' '9' '10' '10'\n",
      "  '11' '11' '11']\n",
      " ['а' 'б' 'в' 'а' 'в' 'г' 'а' 'б' 'в' 'а' 'б' 'а' 'б' 'в' 'г' 'а' 'б' 'а'\n",
      "  'б' 'в']]\n"
     ]
    },
    {
     "data": {
      "text/plain": [
       "[['10', '11', '5', '6', '7', '8', '9'], ['а', 'б', 'в', 'г']]"
      ]
     },
     "execution_count": 21,
     "metadata": {},
     "output_type": "execute_result"
    }
   ],
   "source": [
    "a = np.array(list(map(lambda x : [x[:-1], x[-1]], data.index.tolist()))).T\n",
    "\n",
    "a[0] = a[0].astype(int)\n",
    "\n",
    "print(a)\n",
    "\n",
    "list(map(lambda x : sorted(list(set(x))), a.tolist())) #ДЖАВИД ЛЕНТЯЙ"
   ]
  },
  {
   "cell_type": "markdown",
   "metadata": {},
   "source": [
    "#### ДЛЯ ПОЛУЧЕНИЯ НУЖНОГО ПРЕДМЕТА ПО КЛАССУ, ДНЮ НЕДЕЛИ И НОМЕРУ УРОКА СЛЕДУЕТ ПРИМЕНЯТЬ СЛЕДУЮЩУЮ КОНСТРУКЦИЮ : data.loc[CLASS, [(WEEKDAY, NUMBER)]]"
   ]
  },
  {
   "cell_type": "code",
   "execution_count": 31,
   "metadata": {},
   "outputs": [
    {
     "data": {
      "text/plain": [
       "(Понедельник, 1)    ВД\\n38\n",
       "Name: 5а, dtype: object"
      ]
     },
     "execution_count": 31,
     "metadata": {},
     "output_type": "execute_result"
    }
   ],
   "source": [
    "data.loc['5а', [('Понедельник', 1)]] # ПРИМЕР"
   ]
  },
  {
   "cell_type": "markdown",
   "metadata": {},
   "source": [
    "#### ДЛЯ ПОЛУЧЕНИЯ НУЖНОГО ПРЕДМЕТА ПО КЛАССУ, ДНЮ НЕДЕЛИ И НОМЕРУ УРОКА СЛЕДУЕТ ПРИМЕНЯТЬ СЛЕДУЮЩУЮ КОНСТРУКЦИЮ : data.loc[CLASS, [(WEEKDAY, n) for n in range(1, 9)]].dropna().to_dict()"
   ]
  },
  {
   "cell_type": "code",
   "execution_count": 35,
   "metadata": {},
   "outputs": [
    {
     "data": {
      "text/plain": [
       "{('Понедельник', 1): 'ВД\\n38',\n",
       " ('Понедельник', 2): 'мат\\n38',\n",
       " ('Понедельник', 3): 'муз\\n3',\n",
       " ('Понедельник', 4): 'геог\\n29',\n",
       " ('Понедельник', 5): 'анг\\n30',\n",
       " ('Понедельник', 6): 'рус\\n48'}"
      ]
     },
     "execution_count": 35,
     "metadata": {},
     "output_type": "execute_result"
    }
   ],
   "source": [
    "data.loc['5а', [('Понедельник', n) for n in range(1, 9)]].dropna().to_dict()"
   ]
  },
  {
   "cell_type": "code",
   "execution_count": 55,
   "metadata": {},
   "outputs": [
    {
     "data": {
      "text/html": [
       "<div>\n",
       "<style scoped>\n",
       "    .dataframe tbody tr th:only-of-type {\n",
       "        vertical-align: middle;\n",
       "    }\n",
       "\n",
       "    .dataframe tbody tr th {\n",
       "        vertical-align: top;\n",
       "    }\n",
       "\n",
       "    .dataframe thead th {\n",
       "        text-align: right;\n",
       "    }\n",
       "</style>\n",
       "<table border=\"1\" class=\"dataframe\">\n",
       "  <thead>\n",
       "    <tr style=\"text-align: right;\">\n",
       "      <th></th>\n",
       "      <th>0</th>\n",
       "      <th>1</th>\n",
       "    </tr>\n",
       "  </thead>\n",
       "  <tbody>\n",
       "    <tr>\n",
       "      <th>(Понедельник, 1)</th>\n",
       "      <td>ВД</td>\n",
       "      <td>38</td>\n",
       "    </tr>\n",
       "    <tr>\n",
       "      <th>(Понедельник, 2)</th>\n",
       "      <td>мат</td>\n",
       "      <td>38</td>\n",
       "    </tr>\n",
       "    <tr>\n",
       "      <th>(Понедельник, 3)</th>\n",
       "      <td>муз</td>\n",
       "      <td>3</td>\n",
       "    </tr>\n",
       "    <tr>\n",
       "      <th>(Понедельник, 4)</th>\n",
       "      <td>геог</td>\n",
       "      <td>29</td>\n",
       "    </tr>\n",
       "    <tr>\n",
       "      <th>(Понедельник, 5)</th>\n",
       "      <td>анг</td>\n",
       "      <td>30</td>\n",
       "    </tr>\n",
       "    <tr>\n",
       "      <th>(Понедельник, 6)</th>\n",
       "      <td>рус</td>\n",
       "      <td>48</td>\n",
       "    </tr>\n",
       "  </tbody>\n",
       "</table>\n",
       "</div>"
      ],
      "text/plain": [
       "                     0   1\n",
       "(Понедельник, 1)    ВД  38\n",
       "(Понедельник, 2)   мат  38\n",
       "(Понедельник, 3)   муз   3\n",
       "(Понедельник, 4)  геог  29\n",
       "(Понедельник, 5)   анг  30\n",
       "(Понедельник, 6)   рус  48"
      ]
     },
     "execution_count": 55,
     "metadata": {},
     "output_type": "execute_result"
    }
   ],
   "source": [
    "ref = data.loc['5а', [('Понедельник', n) for n in range(1, 9)]].dropna().str.split('\\n').apply(pd.Series)\n",
    "\n",
    "ref"
   ]
  },
  {
   "cell_type": "code",
   "execution_count": 62,
   "metadata": {},
   "outputs": [
    {
     "data": {
      "text/plain": [
       "array([['ВД', '38'],\n",
       "       ['мат', '38'],\n",
       "       ['муз', '3'],\n",
       "       ['геог', '29'],\n",
       "       ['анг', '30'],\n",
       "       ['рус', '48']], dtype=object)"
      ]
     },
     "execution_count": 62,
     "metadata": {},
     "output_type": "execute_result"
    }
   ],
   "source": [
    "ref.rename(columns={0 : 'Предмет', 1 : 'Кабинет'}).values"
   ]
  },
  {
   "cell_type": "code",
   "execution_count": null,
   "metadata": {},
   "outputs": [],
   "source": [
    "datap = pd.read_excel('data/data2.xlsx')"
   ]
  },
  {
   "cell_type": "code",
   "execution_count": null,
   "metadata": {},
   "outputs": [],
   "source": [
    "data = pd.DataFrame([], columns=datap.columns.tolist())\n",
    "\n",
    "lastNotNone = ''\n",
    "\n",
    "for rind, row in datap[:-1].iterrows() :\n",
    "    if str(rind) != 'nan':\n",
    "        lastNotNone = rind\n",
    "        data.loc[rind] = row.str.replace('\\n', ',')\n",
    "    else :\n",
    "        data.loc[lastNotNone, row.notna()] = data.loc[lastNotNone, row.notna()].str.replace('\\n', ',').str.cat(row[row.notna()], sep=';')\n",
    "        \n",
    "data.index.names = ['Класс']\n",
    "data.to_excel('./data/result.xlsx')    "
   ]
  },
  {
   "cell_type": "code",
   "execution_count": null,
   "metadata": {},
   "outputs": [],
   "source": [
    "\n",
    "import numpy as np\n",
    "\n",
    "def getLessonsDataByClassWeekday(data : pd.DataFrame, className : str, weekday : str) -> np.ndarray : ### Получение данных ... после получения DATA\n",
    "    return data.loc[className, [f\"{(weekday, n)}\" for n in range(1, 9)]].dropna().str.replace('\\n', ',').str.split(';').apply(pd.Series).rename(columns={0 : 'Предмет', 1 : 'Кабинет'}).values"
   ]
  },
  {
   "cell_type": "code",
   "execution_count": 34,
   "metadata": {},
   "outputs": [],
   "source": [
    "data = pd.read_excel('data/result.xlsx').set_index('Класс')"
   ]
  },
  {
   "cell_type": "code",
   "execution_count": 36,
   "metadata": {},
   "outputs": [
    {
     "data": {
      "text/plain": [
       "[\"('Вторник', 3)\",\n",
       " \"('Вторник', 4)\",\n",
       " \"('Вторник', 5)\",\n",
       " \"('Вторник', 6)\",\n",
       " \"('Вторник', 7)\",\n",
       " \"('Вторник', 8)\",\n",
       " \"('Среда', 1)\",\n",
       " \"('Среда', 2)\",\n",
       " \"('Среда', 3)\",\n",
       " \"('Среда', 4)\",\n",
       " \"('Среда', 5)\",\n",
       " \"('Среда', 6)\",\n",
       " \"('Среда', 7)\",\n",
       " \"('Среда', 8)\",\n",
       " \"('Четверг', 1)\",\n",
       " \"('Четверг', 2)\",\n",
       " \"('Четверг', 3)\",\n",
       " \"('Четверг', 4)\",\n",
       " \"('Четверг', 5)\",\n",
       " \"('Четверг', 6)\",\n",
       " \"('Четверг', 7)\",\n",
       " \"('Четверг', 8)\",\n",
       " \"('Пятница', 1)\",\n",
       " \"('Пятница', 2)\",\n",
       " \"('Пятница', 3)\",\n",
       " \"('Пятница', 4)\",\n",
       " \"('Пятница', 5)\",\n",
       " \"('Пятница', 6)\",\n",
       " \"('Пятница', 7)\",\n",
       " \"('Пятница', 8)\"]"
      ]
     },
     "metadata": {},
     "output_type": "display_data"
    },
    {
     "data": {
      "text/plain": [
       "array([['ВД,42'],\n",
       "       ['егэ мат(п),38'],\n",
       "       ['егэ мат(п),38'],\n",
       "       ['геом,38'],\n",
       "       ['лит,42'],\n",
       "       ['егэ физ,51'],\n",
       "       ['егэ физ,51']], dtype=object)"
      ]
     },
     "metadata": {},
     "output_type": "display_data"
    },
    {
     "data": {
      "text/plain": [
       "[\"('Вторник', 3)\",\n",
       " \"('Вторник', 4)\",\n",
       " \"('Вторник', 5)\",\n",
       " \"('Вторник', 6)\",\n",
       " \"('Вторник', 7)\",\n",
       " \"('Вторник', 8)\",\n",
       " \"('Среда', 1)\",\n",
       " \"('Среда', 2)\",\n",
       " \"('Среда', 3)\",\n",
       " \"('Среда', 4)\",\n",
       " \"('Среда', 5)\",\n",
       " \"('Среда', 6)\",\n",
       " \"('Среда', 7)\",\n",
       " \"('Среда', 8)\",\n",
       " \"('Четверг', 1)\",\n",
       " \"('Четверг', 2)\",\n",
       " \"('Четверг', 3)\",\n",
       " \"('Четверг', 4)\",\n",
       " \"('Четверг', 5)\",\n",
       " \"('Четверг', 6)\",\n",
       " \"('Четверг', 7)\",\n",
       " \"('Четверг', 8)\",\n",
       " \"('Пятница', 1)\",\n",
       " \"('Пятница', 2)\",\n",
       " \"('Пятница', 3)\",\n",
       " \"('Пятница', 4)\",\n",
       " \"('Пятница', 5)\",\n",
       " \"('Пятница', 6)\",\n",
       " \"('Пятница', 7)\",\n",
       " \"('Пятница', 8)\"]"
      ]
     },
     "metadata": {},
     "output_type": "display_data"
    },
    {
     "data": {
      "text/plain": [
       "array([['ист,27'],\n",
       "       ['общ,27'],\n",
       "       ['алг,38'],\n",
       "       ['алг,38'],\n",
       "       ['ф-ра,бсз']], dtype=object)"
      ]
     },
     "metadata": {},
     "output_type": "display_data"
    },
    {
     "data": {
      "text/plain": [
       "[\"('Вторник', 3)\",\n",
       " \"('Вторник', 4)\",\n",
       " \"('Вторник', 5)\",\n",
       " \"('Вторник', 6)\",\n",
       " \"('Вторник', 7)\",\n",
       " \"('Вторник', 8)\",\n",
       " \"('Среда', 1)\",\n",
       " \"('Среда', 2)\",\n",
       " \"('Среда', 3)\",\n",
       " \"('Среда', 4)\",\n",
       " \"('Среда', 5)\",\n",
       " \"('Среда', 6)\",\n",
       " \"('Среда', 7)\",\n",
       " \"('Среда', 8)\",\n",
       " \"('Четверг', 1)\",\n",
       " \"('Четверг', 2)\",\n",
       " \"('Четверг', 3)\",\n",
       " \"('Четверг', 4)\",\n",
       " \"('Четверг', 5)\",\n",
       " \"('Четверг', 6)\",\n",
       " \"('Четверг', 7)\",\n",
       " \"('Четверг', 8)\",\n",
       " \"('Пятница', 1)\",\n",
       " \"('Пятница', 2)\",\n",
       " \"('Пятница', 3)\",\n",
       " \"('Пятница', 4)\",\n",
       " \"('Пятница', 5)\",\n",
       " \"('Пятница', 6)\",\n",
       " \"('Пятница', 7)\",\n",
       " \"('Пятница', 8)\"]"
      ]
     },
     "metadata": {},
     "output_type": "display_data"
    },
    {
     "data": {
      "text/plain": [
       "array([['егэ мат(п),38'],\n",
       "       ['егэ мат(п),38'],\n",
       "       ['егэ рус2,54'],\n",
       "       ['егэ рус2,54'],\n",
       "       ['лит,54'],\n",
       "       ['физ,51'],\n",
       "       ['физ,51']], dtype=object)"
      ]
     },
     "metadata": {},
     "output_type": "display_data"
    },
    {
     "data": {
      "text/plain": [
       "[\"('Вторник', 3)\",\n",
       " \"('Вторник', 4)\",\n",
       " \"('Вторник', 5)\",\n",
       " \"('Вторник', 6)\",\n",
       " \"('Вторник', 7)\",\n",
       " \"('Вторник', 8)\",\n",
       " \"('Среда', 1)\",\n",
       " \"('Среда', 2)\",\n",
       " \"('Среда', 3)\",\n",
       " \"('Среда', 4)\",\n",
       " \"('Среда', 5)\",\n",
       " \"('Среда', 6)\",\n",
       " \"('Среда', 7)\",\n",
       " \"('Среда', 8)\",\n",
       " \"('Четверг', 1)\",\n",
       " \"('Четверг', 2)\",\n",
       " \"('Четверг', 3)\",\n",
       " \"('Четверг', 4)\",\n",
       " \"('Четверг', 5)\",\n",
       " \"('Четверг', 6)\",\n",
       " \"('Четверг', 7)\",\n",
       " \"('Четверг', 8)\",\n",
       " \"('Пятница', 1)\",\n",
       " \"('Пятница', 2)\",\n",
       " \"('Пятница', 3)\",\n",
       " \"('Пятница', 4)\",\n",
       " \"('Пятница', 5)\",\n",
       " \"('Пятница', 6)\",\n",
       " \"('Пятница', 7)\",\n",
       " \"('Пятница', 8)\"]"
      ]
     },
     "metadata": {},
     "output_type": "display_data"
    },
    {
     "data": {
      "text/plain": [
       "array([['общ,27'],\n",
       "       ['геом,38'],\n",
       "       ['геом,38'],\n",
       "       ['ВиС,38'],\n",
       "       ['ист,27']], dtype=object)"
      ]
     },
     "metadata": {},
     "output_type": "display_data"
    },
    {
     "data": {
      "text/plain": [
       "[\"('Вторник', 3)\",\n",
       " \"('Вторник', 4)\",\n",
       " \"('Вторник', 5)\",\n",
       " \"('Вторник', 6)\",\n",
       " \"('Вторник', 7)\",\n",
       " \"('Вторник', 8)\",\n",
       " \"('Среда', 1)\",\n",
       " \"('Среда', 2)\",\n",
       " \"('Среда', 3)\",\n",
       " \"('Среда', 4)\",\n",
       " \"('Среда', 5)\",\n",
       " \"('Среда', 6)\",\n",
       " \"('Среда', 7)\",\n",
       " \"('Среда', 8)\",\n",
       " \"('Четверг', 1)\",\n",
       " \"('Четверг', 2)\",\n",
       " \"('Четверг', 3)\",\n",
       " \"('Четверг', 4)\",\n",
       " \"('Четверг', 5)\",\n",
       " \"('Четверг', 6)\",\n",
       " \"('Четверг', 7)\",\n",
       " \"('Четверг', 8)\",\n",
       " \"('Пятница', 1)\",\n",
       " \"('Пятница', 2)\",\n",
       " \"('Пятница', 3)\",\n",
       " \"('Пятница', 4)\",\n",
       " \"('Пятница', 5)\",\n",
       " \"('Пятница', 6)\",\n",
       " \"('Пятница', 7)\",\n",
       " \"('Пятница', 8)\"]"
      ]
     },
     "metadata": {},
     "output_type": "display_data"
    },
    {
     "data": {
      "text/plain": [
       "array([['егэ рус2,54'],\n",
       "       ['егэ рус2,54'],\n",
       "       ['алг,38'],\n",
       "       ['алг,38'],\n",
       "       ['физ,51'],\n",
       "       ['егэ физ,51'],\n",
       "       ['егэ физ,51']], dtype=object)"
      ]
     },
     "metadata": {},
     "output_type": "display_data"
    }
   ],
   "source": [
    "for day in ['Понедельник', 'Вторник', 'Среда', 'Четверг', \"Пятница\"] :\n",
    "    display(getLessonsDataByClassWeekday(data, '11мв (ф)', day))"
   ]
  },
  {
   "cell_type": "code",
   "execution_count": 16,
   "metadata": {},
   "outputs": [
    {
     "name": "stderr",
     "output_type": "stream",
     "text": [
      "C:\\Users\\Elmir\\AppData\\Local\\Temp\\ipykernel_6996\\846965228.py:3: FutureWarning: DataFrame.applymap has been deprecated. Use DataFrame.map instead.\n",
      "  datat = datat.applymap(lambda x : str(x).split('\\n')[-1])\n"
     ]
    },
    {
     "data": {
      "text/html": [
       "<div>\n",
       "<style scoped>\n",
       "    .dataframe tbody tr th:only-of-type {\n",
       "        vertical-align: middle;\n",
       "    }\n",
       "\n",
       "    .dataframe tbody tr th {\n",
       "        vertical-align: top;\n",
       "    }\n",
       "\n",
       "    .dataframe thead th {\n",
       "        text-align: right;\n",
       "    }\n",
       "</style>\n",
       "<table border=\"1\" class=\"dataframe\">\n",
       "  <thead>\n",
       "    <tr style=\"text-align: right;\">\n",
       "      <th></th>\n",
       "      <th>(Понедельник, 1)</th>\n",
       "      <th>(Понедельник, 2)</th>\n",
       "      <th>(Понедельник, 3)</th>\n",
       "      <th>(Понедельник, 4)</th>\n",
       "      <th>(Понедельник, 5)</th>\n",
       "      <th>(Понедельник, 6)</th>\n",
       "      <th>(Понедельник, 7)</th>\n",
       "      <th>(Понедельник, 8)</th>\n",
       "      <th>(Вторник, 1)</th>\n",
       "      <th>(Вторник, 2)</th>\n",
       "      <th>...</th>\n",
       "      <th>(Четверг, 7)</th>\n",
       "      <th>(Четверг, 8)</th>\n",
       "      <th>(Пятница, 1)</th>\n",
       "      <th>(Пятница, 2)</th>\n",
       "      <th>(Пятница, 3)</th>\n",
       "      <th>(Пятница, 4)</th>\n",
       "      <th>(Пятница, 5)</th>\n",
       "      <th>(Пятница, 6)</th>\n",
       "      <th>(Пятница, 7)</th>\n",
       "      <th>(Пятница, 8.0)</th>\n",
       "    </tr>\n",
       "    <tr>\n",
       "      <th>Учитель</th>\n",
       "      <th></th>\n",
       "      <th></th>\n",
       "      <th></th>\n",
       "      <th></th>\n",
       "      <th></th>\n",
       "      <th></th>\n",
       "      <th></th>\n",
       "      <th></th>\n",
       "      <th></th>\n",
       "      <th></th>\n",
       "      <th></th>\n",
       "      <th></th>\n",
       "      <th></th>\n",
       "      <th></th>\n",
       "      <th></th>\n",
       "      <th></th>\n",
       "      <th></th>\n",
       "      <th></th>\n",
       "      <th></th>\n",
       "      <th></th>\n",
       "      <th></th>\n",
       "    </tr>\n",
       "  </thead>\n",
       "  <tbody>\n",
       "    <tr>\n",
       "      <th>Карабут Г.В.</th>\n",
       "      <td>nan</td>\n",
       "      <td>nan</td>\n",
       "      <td>42</td>\n",
       "      <td>42</td>\n",
       "      <td>nan</td>\n",
       "      <td>42</td>\n",
       "      <td>nan</td>\n",
       "      <td>nan</td>\n",
       "      <td>42</td>\n",
       "      <td>42</td>\n",
       "      <td>...</td>\n",
       "      <td>nan</td>\n",
       "      <td>nan</td>\n",
       "      <td>42</td>\n",
       "      <td>42</td>\n",
       "      <td>nan</td>\n",
       "      <td>42</td>\n",
       "      <td>42</td>\n",
       "      <td>42</td>\n",
       "      <td>nan</td>\n",
       "      <td>nan</td>\n",
       "    </tr>\n",
       "    <tr>\n",
       "      <th>Росомаха Р.М.</th>\n",
       "      <td>48</td>\n",
       "      <td>48</td>\n",
       "      <td>48</td>\n",
       "      <td>nan</td>\n",
       "      <td>48</td>\n",
       "      <td>48</td>\n",
       "      <td>nan</td>\n",
       "      <td>nan</td>\n",
       "      <td>nan</td>\n",
       "      <td>48</td>\n",
       "      <td>...</td>\n",
       "      <td>nan</td>\n",
       "      <td>nan</td>\n",
       "      <td>48</td>\n",
       "      <td>48</td>\n",
       "      <td>48</td>\n",
       "      <td>48</td>\n",
       "      <td>48</td>\n",
       "      <td>48</td>\n",
       "      <td>nan</td>\n",
       "      <td>nan</td>\n",
       "    </tr>\n",
       "    <tr>\n",
       "      <th>Гедгафова Э.М.</th>\n",
       "      <td>28</td>\n",
       "      <td>28</td>\n",
       "      <td>28</td>\n",
       "      <td>nan</td>\n",
       "      <td>28</td>\n",
       "      <td>28</td>\n",
       "      <td>28</td>\n",
       "      <td>nan</td>\n",
       "      <td>28</td>\n",
       "      <td>28</td>\n",
       "      <td>...</td>\n",
       "      <td>nan</td>\n",
       "      <td>nan</td>\n",
       "      <td>28</td>\n",
       "      <td>28</td>\n",
       "      <td>28</td>\n",
       "      <td>28</td>\n",
       "      <td>28</td>\n",
       "      <td>28</td>\n",
       "      <td>nan</td>\n",
       "      <td>nan</td>\n",
       "    </tr>\n",
       "    <tr>\n",
       "      <th>Шелякина Е.О.</th>\n",
       "      <td>56</td>\n",
       "      <td>56</td>\n",
       "      <td>56</td>\n",
       "      <td>56</td>\n",
       "      <td>56</td>\n",
       "      <td>56</td>\n",
       "      <td>56</td>\n",
       "      <td>nan</td>\n",
       "      <td>56</td>\n",
       "      <td>56</td>\n",
       "      <td>...</td>\n",
       "      <td>nan</td>\n",
       "      <td>nan</td>\n",
       "      <td>56</td>\n",
       "      <td>56</td>\n",
       "      <td>56</td>\n",
       "      <td>nan</td>\n",
       "      <td>56</td>\n",
       "      <td>56</td>\n",
       "      <td>nan</td>\n",
       "      <td>nan</td>\n",
       "    </tr>\n",
       "    <tr>\n",
       "      <th>Смирнова Ю.Б.</th>\n",
       "      <td>42</td>\n",
       "      <td>30</td>\n",
       "      <td>30</td>\n",
       "      <td>nan</td>\n",
       "      <td>42</td>\n",
       "      <td>39</td>\n",
       "      <td>39</td>\n",
       "      <td>nan</td>\n",
       "      <td>nan</td>\n",
       "      <td>nan</td>\n",
       "      <td>...</td>\n",
       "      <td>nan</td>\n",
       "      <td>nan</td>\n",
       "      <td>54</td>\n",
       "      <td>54</td>\n",
       "      <td>nan</td>\n",
       "      <td>nan</td>\n",
       "      <td>nan</td>\n",
       "      <td>nan</td>\n",
       "      <td>nan</td>\n",
       "      <td>nan</td>\n",
       "    </tr>\n",
       "  </tbody>\n",
       "</table>\n",
       "<p>5 rows × 40 columns</p>\n",
       "</div>"
      ],
      "text/plain": [
       "               (Понедельник, 1) (Понедельник, 2) (Понедельник, 3)  \\\n",
       "Учитель                                                             \n",
       "Карабут Г.В.                nan              nan               42   \n",
       "Росомаха Р.М.                48               48               48   \n",
       "Гедгафова Э.М.               28               28               28   \n",
       "Шелякина Е.О.                56               56               56   \n",
       "Смирнова Ю.Б.                42               30               30   \n",
       "\n",
       "               (Понедельник, 4) (Понедельник, 5) (Понедельник, 6)  \\\n",
       "Учитель                                                             \n",
       "Карабут Г.В.                 42              nan               42   \n",
       "Росомаха Р.М.               nan               48               48   \n",
       "Гедгафова Э.М.              nan               28               28   \n",
       "Шелякина Е.О.                56               56               56   \n",
       "Смирнова Ю.Б.               nan               42               39   \n",
       "\n",
       "               (Понедельник, 7) (Понедельник, 8) (Вторник, 1) (Вторник, 2)  \\\n",
       "Учитель                                                                      \n",
       "Карабут Г.В.                nan              nan           42           42   \n",
       "Росомаха Р.М.               nan              nan          nan           48   \n",
       "Гедгафова Э.М.               28              nan           28           28   \n",
       "Шелякина Е.О.                56              nan           56           56   \n",
       "Смирнова Ю.Б.                39              nan          nan          nan   \n",
       "\n",
       "                ... (Четверг, 7) (Четверг, 8) (Пятница, 1) (Пятница, 2)  \\\n",
       "Учитель         ...                                                       \n",
       "Карабут Г.В.    ...          nan          nan           42           42   \n",
       "Росомаха Р.М.   ...          nan          nan           48           48   \n",
       "Гедгафова Э.М.  ...          nan          nan           28           28   \n",
       "Шелякина Е.О.   ...          nan          nan           56           56   \n",
       "Смирнова Ю.Б.   ...          nan          nan           54           54   \n",
       "\n",
       "               (Пятница, 3) (Пятница, 4) (Пятница, 5) (Пятница, 6)  \\\n",
       "Учитель                                                              \n",
       "Карабут Г.В.            nan           42           42           42   \n",
       "Росомаха Р.М.            48           48           48           48   \n",
       "Гедгафова Э.М.           28           28           28           28   \n",
       "Шелякина Е.О.            56          nan           56           56   \n",
       "Смирнова Ю.Б.           nan          nan          nan          nan   \n",
       "\n",
       "               (Пятница, 7) (Пятница, 8.0)  \n",
       "Учитель                                     \n",
       "Карабут Г.В.            nan            nan  \n",
       "Росомаха Р.М.           nan            nan  \n",
       "Гедгафова Э.М.          nan            nan  \n",
       "Шелякина Е.О.           nan            nan  \n",
       "Смирнова Ю.Б.           nan            nan  \n",
       "\n",
       "[5 rows x 40 columns]"
      ]
     },
     "execution_count": 16,
     "metadata": {},
     "output_type": "execute_result"
    }
   ],
   "source": [
    "datat = getBasicLessonsData('teachers')\n",
    "\n",
    "datat = datat.applymap(lambda x : str(x).split('\\n')[-1])\n",
    "\n",
    "datat.head()"
   ]
  },
  {
   "cell_type": "code",
   "execution_count": 17,
   "metadata": {},
   "outputs": [],
   "source": [
    "datat.to_excel('./data/teachersRes.xlsx')"
   ]
  },
  {
   "cell_type": "code",
   "execution_count": 21,
   "metadata": {},
   "outputs": [
    {
     "data": {
      "text/plain": [
       "Index(['Карабут Г.В.', 'Росомаха Р.М.', 'Гедгафова Э.М.', 'Шелякина Е.О.',\n",
       "       'Смирнова Ю.Б.', 'Белякова Е.В.', 'Громова Л.А.', 'Короткова Е.А.',\n",
       "       'Карпова Е.Г.', 'Бучнев Д.В.', 'Дегтярев Е.В.', 'Шуршаев Д.Ш.',\n",
       "       'Губанов А.С.', 'Борисова Е.П.', 'Надиров Ч.А.', 'Виноградов А.К.',\n",
       "       'Дюкарева О.Ю.', 'Бабин А.Р.', 'Виноградов К.Э.', 'Шленов Д.А',\n",
       "       'Гончарова С.Н.', 'Федотова П.А.', 'Мухамедова Ф.В.', 'Новик А.В.',\n",
       "       'Дятлова И.В.', 'Шолохова М.М.', 'Лысенко М.Г.', 'Бологова Г.А.',\n",
       "       'Симоненко Г.Н.', 'Муринец С.Д.', 'Мусиева И.М.', 'Саркисян Л.Р.',\n",
       "       'Петелина И.Н.', 'Васильева Т.В.', 'Воронкевич О.И.', 'Жукова Н.Н.',\n",
       "       'Винтова Н.В.', 'Сергеева И.А.', 'Волкова К.В.', 'Николаев А.Е.',\n",
       "       'Киселев С.В.', 'Физ-ра', 'Ангелова А.Д.', 'Солоденко Т.П.',\n",
       "       'литература'],\n",
       "      dtype='object', name='Учитель')"
      ]
     },
     "execution_count": 21,
     "metadata": {},
     "output_type": "execute_result"
    }
   ],
   "source": [
    "datat.index"
   ]
  }
 ],
 "metadata": {
  "kernelspec": {
   "display_name": "Python 3",
   "language": "python",
   "name": "python3"
  },
  "language_info": {
   "codemirror_mode": {
    "name": "ipython",
    "version": 3
   },
   "file_extension": ".py",
   "mimetype": "text/x-python",
   "name": "python",
   "nbconvert_exporter": "python",
   "pygments_lexer": "ipython3",
   "version": "3.13.1"
  }
 },
 "nbformat": 4,
 "nbformat_minor": 2
}
