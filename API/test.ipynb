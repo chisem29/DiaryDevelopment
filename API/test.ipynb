{
 "cells": [
  {
   "cell_type": "markdown",
   "metadata": {},
   "source": [
    "## ШПАРГАЛКА"
   ]
  },
  {
   "cell_type": "code",
   "execution_count": 1,
   "metadata": {},
   "outputs": [],
   "source": [
    "import pandas as pd"
   ]
  },
  {
   "cell_type": "code",
   "execution_count": 2,
   "metadata": {},
   "outputs": [],
   "source": [
    "def getBasicLessonsData() :\n",
    "\n",
    "    data = pd.read_excel('data/data.xlsx')\n",
    "\n",
    "    basicColumns = data.columns.tolist()[1::8]\n",
    "\n",
    "    data.columns =  [data.columns.tolist()[0]] + list(zip([col for col in basicColumns for _ in range(8)], data.iloc[0, 1:]))\n",
    "\n",
    "    data.drop(0, inplace=True)\n",
    "\n",
    "    data.set_index('Класс', inplace=True)\n",
    "\n",
    "    return data"
   ]
  },
  {
   "cell_type": "code",
   "execution_count": 3,
   "metadata": {},
   "outputs": [
    {
     "data": {
      "text/html": [
       "<div>\n",
       "<style scoped>\n",
       "    .dataframe tbody tr th:only-of-type {\n",
       "        vertical-align: middle;\n",
       "    }\n",
       "\n",
       "    .dataframe tbody tr th {\n",
       "        vertical-align: top;\n",
       "    }\n",
       "\n",
       "    .dataframe thead th {\n",
       "        text-align: right;\n",
       "    }\n",
       "</style>\n",
       "<table border=\"1\" class=\"dataframe\">\n",
       "  <thead>\n",
       "    <tr style=\"text-align: right;\">\n",
       "      <th></th>\n",
       "      <th>(Понедельник, 1)</th>\n",
       "      <th>(Понедельник, 2)</th>\n",
       "      <th>(Понедельник, 3)</th>\n",
       "      <th>(Понедельник, 4)</th>\n",
       "      <th>(Понедельник, 5)</th>\n",
       "      <th>(Понедельник, 6)</th>\n",
       "      <th>(Понедельник, 7)</th>\n",
       "      <th>(Понедельник, 8)</th>\n",
       "      <th>(Вторник, 1)</th>\n",
       "      <th>(Вторник, 2)</th>\n",
       "      <th>...</th>\n",
       "      <th>(Четверг, 7)</th>\n",
       "      <th>(Четверг, 8.0)</th>\n",
       "      <th>(Пятница, 1)</th>\n",
       "      <th>(Пятница, 2)</th>\n",
       "      <th>(Пятница, 3)</th>\n",
       "      <th>(Пятница, 4)</th>\n",
       "      <th>(Пятница, 5)</th>\n",
       "      <th>(Пятница, 6)</th>\n",
       "      <th>(Пятница, 7)</th>\n",
       "      <th>(Пятница, 8.0)</th>\n",
       "    </tr>\n",
       "    <tr>\n",
       "      <th>Класс</th>\n",
       "      <th></th>\n",
       "      <th></th>\n",
       "      <th></th>\n",
       "      <th></th>\n",
       "      <th></th>\n",
       "      <th></th>\n",
       "      <th></th>\n",
       "      <th></th>\n",
       "      <th></th>\n",
       "      <th></th>\n",
       "      <th></th>\n",
       "      <th></th>\n",
       "      <th></th>\n",
       "      <th></th>\n",
       "      <th></th>\n",
       "      <th></th>\n",
       "      <th></th>\n",
       "      <th></th>\n",
       "      <th></th>\n",
       "      <th></th>\n",
       "      <th></th>\n",
       "    </tr>\n",
       "  </thead>\n",
       "  <tbody>\n",
       "    <tr>\n",
       "      <th>5а</th>\n",
       "      <td>ВД\\n38</td>\n",
       "      <td>мат\\n38</td>\n",
       "      <td>муз\\n3</td>\n",
       "      <td>геог\\n29</td>\n",
       "      <td>анг\\n30</td>\n",
       "      <td>рус\\n48</td>\n",
       "      <td>NaN</td>\n",
       "      <td>NaN</td>\n",
       "      <td>ист\\n3</td>\n",
       "      <td>рус\\n48</td>\n",
       "      <td>...</td>\n",
       "      <td>NaN</td>\n",
       "      <td>NaN</td>\n",
       "      <td>труд\\n49</td>\n",
       "      <td>рус\\n48</td>\n",
       "      <td>мат\\n38</td>\n",
       "      <td>чт гр\\n56</td>\n",
       "      <td>лит\\n48</td>\n",
       "      <td>ф-р а\\nмсз</td>\n",
       "      <td>NaN</td>\n",
       "      <td>NaN</td>\n",
       "    </tr>\n",
       "    <tr>\n",
       "      <th>5б</th>\n",
       "      <td>ВД\\n48</td>\n",
       "      <td>рус\\n48</td>\n",
       "      <td>мат\\n21</td>\n",
       "      <td>ист\\n3</td>\n",
       "      <td>лит\\n48</td>\n",
       "      <td>муз\\n3</td>\n",
       "      <td>анг\\n54</td>\n",
       "      <td>NaN</td>\n",
       "      <td>рус\\n48</td>\n",
       "      <td>мат\\n21</td>\n",
       "      <td>...</td>\n",
       "      <td>NaN</td>\n",
       "      <td>NaN</td>\n",
       "      <td>чт гр\\n56</td>\n",
       "      <td>ф-р а\\nбсз</td>\n",
       "      <td>рус\\n48</td>\n",
       "      <td>труд\\n49</td>\n",
       "      <td>анг\\n47</td>\n",
       "      <td>мат\\n21</td>\n",
       "      <td>NaN</td>\n",
       "      <td>NaN</td>\n",
       "    </tr>\n",
       "    <tr>\n",
       "      <th>5в</th>\n",
       "      <td>ВД\\n45</td>\n",
       "      <td>мат\\n47</td>\n",
       "      <td>рус\\n41</td>\n",
       "      <td>ист\\n45</td>\n",
       "      <td>муз\\n3</td>\n",
       "      <td>геог\\n29</td>\n",
       "      <td>NaN</td>\n",
       "      <td>NaN</td>\n",
       "      <td>рус\\n41</td>\n",
       "      <td>мат\\n34</td>\n",
       "      <td>...</td>\n",
       "      <td>NaN</td>\n",
       "      <td>NaN</td>\n",
       "      <td>био\\n47</td>\n",
       "      <td>мат\\n54</td>\n",
       "      <td>изо\\n26</td>\n",
       "      <td>анг\\n48</td>\n",
       "      <td>рус\\n41</td>\n",
       "      <td>лит\\n41</td>\n",
       "      <td>NaN</td>\n",
       "      <td>NaN</td>\n",
       "    </tr>\n",
       "    <tr>\n",
       "      <th>6а</th>\n",
       "      <td>ВД\\n49</td>\n",
       "      <td>мат\\n21</td>\n",
       "      <td>геог\\n29</td>\n",
       "      <td>рус\\n56</td>\n",
       "      <td>лит\\n56</td>\n",
       "      <td>труд\\n49</td>\n",
       "      <td>однк нр\\n3</td>\n",
       "      <td>NaN</td>\n",
       "      <td>рус\\n56</td>\n",
       "      <td>анг\\n30</td>\n",
       "      <td>...</td>\n",
       "      <td>NaN</td>\n",
       "      <td>NaN</td>\n",
       "      <td>мат\\n21</td>\n",
       "      <td>рус\\n56</td>\n",
       "      <td>общ\\n46</td>\n",
       "      <td>ф-р а\\nбсз</td>\n",
       "      <td>рус\\n56</td>\n",
       "      <td>анг\\n30</td>\n",
       "      <td>NaN</td>\n",
       "      <td>NaN</td>\n",
       "    </tr>\n",
       "    <tr>\n",
       "      <th>6в</th>\n",
       "      <td>ВД\\n21</td>\n",
       "      <td>однк нр\\n3</td>\n",
       "      <td>труд\\n49</td>\n",
       "      <td>ист\\n46</td>\n",
       "      <td>рус\\n42</td>\n",
       "      <td>мат\\n21</td>\n",
       "      <td>лит\\n42</td>\n",
       "      <td>NaN</td>\n",
       "      <td>мат\\n21</td>\n",
       "      <td>рус\\n42</td>\n",
       "      <td>...</td>\n",
       "      <td>NaN</td>\n",
       "      <td>NaN</td>\n",
       "      <td>рус\\n42</td>\n",
       "      <td>анг\\n50</td>\n",
       "      <td>мат\\n21</td>\n",
       "      <td>изо\\n26</td>\n",
       "      <td>лит\\n42</td>\n",
       "      <td>ф-р а\\nбсз</td>\n",
       "      <td>NaN</td>\n",
       "      <td>NaN</td>\n",
       "    </tr>\n",
       "  </tbody>\n",
       "</table>\n",
       "<p>5 rows × 40 columns</p>\n",
       "</div>"
      ],
      "text/plain": [
       "      (Понедельник, 1) (Понедельник, 2) (Понедельник, 3) (Понедельник, 4)  \\\n",
       "Класс                                                                       \n",
       "5а              ВД\\n38          мат\\n38           муз\\n3         геог\\n29   \n",
       "5б              ВД\\n48          рус\\n48          мат\\n21           ист\\n3   \n",
       "5в              ВД\\n45          мат\\n47          рус\\n41          ист\\n45   \n",
       "6а              ВД\\n49          мат\\n21         геог\\n29          рус\\n56   \n",
       "6в              ВД\\n21       однк нр\\n3         труд\\n49          ист\\n46   \n",
       "\n",
       "      (Понедельник, 5) (Понедельник, 6) (Понедельник, 7) (Понедельник, 8)  \\\n",
       "Класс                                                                       \n",
       "5а             анг\\n30          рус\\n48              NaN              NaN   \n",
       "5б             лит\\n48           муз\\n3          анг\\n54              NaN   \n",
       "5в              муз\\n3         геог\\n29              NaN              NaN   \n",
       "6а             лит\\n56         труд\\n49       однк нр\\n3              NaN   \n",
       "6в             рус\\n42          мат\\n21          лит\\n42              NaN   \n",
       "\n",
       "      (Вторник, 1) (Вторник, 2)  ... (Четверг, 7) (Четверг, 8.0) (Пятница, 1)  \\\n",
       "Класс                            ...                                            \n",
       "5а          ист\\n3      рус\\n48  ...          NaN            NaN     труд\\n49   \n",
       "5б         рус\\n48      мат\\n21  ...          NaN            NaN    чт гр\\n56   \n",
       "5в         рус\\n41      мат\\n34  ...          NaN            NaN      био\\n47   \n",
       "6а         рус\\n56      анг\\n30  ...          NaN            NaN      мат\\n21   \n",
       "6в         мат\\n21      рус\\n42  ...          NaN            NaN      рус\\n42   \n",
       "\n",
       "      (Пятница, 2) (Пятница, 3) (Пятница, 4) (Пятница, 5) (Пятница, 6)  \\\n",
       "Класс                                                                    \n",
       "5а         рус\\n48      мат\\n38    чт гр\\n56      лит\\n48   ф-р а\\nмсз   \n",
       "5б      ф-р а\\nбсз      рус\\n48     труд\\n49      анг\\n47      мат\\n21   \n",
       "5в         мат\\n54      изо\\n26      анг\\n48      рус\\n41      лит\\n41   \n",
       "6а         рус\\n56      общ\\n46   ф-р а\\nбсз      рус\\n56      анг\\n30   \n",
       "6в         анг\\n50      мат\\n21      изо\\n26      лит\\n42   ф-р а\\nбсз   \n",
       "\n",
       "      (Пятница, 7) (Пятница, 8.0)  \n",
       "Класс                              \n",
       "5а             NaN            NaN  \n",
       "5б             NaN            NaN  \n",
       "5в             NaN            NaN  \n",
       "6а             NaN            NaN  \n",
       "6в             NaN            NaN  \n",
       "\n",
       "[5 rows x 40 columns]"
      ]
     },
     "execution_count": 3,
     "metadata": {},
     "output_type": "execute_result"
    }
   ],
   "source": [
    "data = getBasicLessonsData()\n",
    "\n",
    "data.head()"
   ]
  },
  {
   "cell_type": "code",
   "execution_count": 25,
   "metadata": {},
   "outputs": [
    {
     "data": {
      "text/plain": [
       "[['5', '6', '7', '8', '9', '10', '11'], ['а', 'б', 'в', 'г']]"
      ]
     },
     "execution_count": 25,
     "metadata": {},
     "output_type": "execute_result"
    }
   ],
   "source": [
    "import numpy as np\n",
    "\n",
    "list(map(lambda x : sorted(list(set(x)), key=lambda x : int(x) if x.isdigit() else x), np.array(list(map(lambda x : [x[:-1], x[-1]], data.index.tolist()))).T.tolist()))"
   ]
  },
  {
   "cell_type": "code",
   "execution_count": 21,
   "metadata": {},
   "outputs": [
    {
     "name": "stdout",
     "output_type": "stream",
     "text": [
      "[['5' '5' '5' '6' '6' '6' '7' '7' '7' '8' '8' '9' '9' '9' '9' '10' '10'\n",
      "  '11' '11' '11']\n",
      " ['а' 'б' 'в' 'а' 'в' 'г' 'а' 'б' 'в' 'а' 'б' 'а' 'б' 'в' 'г' 'а' 'б' 'а'\n",
      "  'б' 'в']]\n"
     ]
    },
    {
     "data": {
      "text/plain": [
       "[['10', '11', '5', '6', '7', '8', '9'], ['а', 'б', 'в', 'г']]"
      ]
     },
     "execution_count": 21,
     "metadata": {},
     "output_type": "execute_result"
    }
   ],
   "source": [
    "a = np.array(list(map(lambda x : [x[:-1], x[-1]], data.index.tolist()))).T\n",
    "\n",
    "a[0] = a[0].astype(int)\n",
    "\n",
    "print(a)\n",
    "\n",
    "list(map(lambda x : sorted(list(set(x))), a.tolist())) #ДЖАВИД ЛЕНТЯЙ"
   ]
  },
  {
   "cell_type": "markdown",
   "metadata": {},
   "source": [
    "#### ДЛЯ ПОЛУЧЕНИЯ НУЖНОГО ПРЕДМЕТА ПО КЛАССУ, ДНЮ НЕДЕЛИ И НОМЕРУ УРОКА СЛЕДУЕТ ПРИМЕНЯТЬ СЛЕДУЮЩУЮ КОНСТРУКЦИЮ : data.loc[CLASS, [(WEEKDAY, NUMBER)]]"
   ]
  },
  {
   "cell_type": "code",
   "execution_count": 31,
   "metadata": {},
   "outputs": [
    {
     "data": {
      "text/plain": [
       "(Понедельник, 1)    ВД\\n38\n",
       "Name: 5а, dtype: object"
      ]
     },
     "execution_count": 31,
     "metadata": {},
     "output_type": "execute_result"
    }
   ],
   "source": [
    "data.loc['5а', [('Понедельник', 1)]] # ПРИМЕР"
   ]
  },
  {
   "cell_type": "markdown",
   "metadata": {},
   "source": [
    "#### ДЛЯ ПОЛУЧЕНИЯ НУЖНОГО ПРЕДМЕТА ПО КЛАССУ, ДНЮ НЕДЕЛИ И НОМЕРУ УРОКА СЛЕДУЕТ ПРИМЕНЯТЬ СЛЕДУЮЩУЮ КОНСТРУКЦИЮ : data.loc[CLASS, [(WEEKDAY, n) for n in range(1, 9)]].dropna().to_dict()"
   ]
  },
  {
   "cell_type": "code",
   "execution_count": 35,
   "metadata": {},
   "outputs": [
    {
     "data": {
      "text/plain": [
       "{('Понедельник', 1): 'ВД\\n38',\n",
       " ('Понедельник', 2): 'мат\\n38',\n",
       " ('Понедельник', 3): 'муз\\n3',\n",
       " ('Понедельник', 4): 'геог\\n29',\n",
       " ('Понедельник', 5): 'анг\\n30',\n",
       " ('Понедельник', 6): 'рус\\n48'}"
      ]
     },
     "execution_count": 35,
     "metadata": {},
     "output_type": "execute_result"
    }
   ],
   "source": [
    "data.loc['5а', [('Понедельник', n) for n in range(1, 9)]].dropna().to_dict()"
   ]
  },
  {
   "cell_type": "code",
   "execution_count": 55,
   "metadata": {},
   "outputs": [
    {
     "data": {
      "text/html": [
       "<div>\n",
       "<style scoped>\n",
       "    .dataframe tbody tr th:only-of-type {\n",
       "        vertical-align: middle;\n",
       "    }\n",
       "\n",
       "    .dataframe tbody tr th {\n",
       "        vertical-align: top;\n",
       "    }\n",
       "\n",
       "    .dataframe thead th {\n",
       "        text-align: right;\n",
       "    }\n",
       "</style>\n",
       "<table border=\"1\" class=\"dataframe\">\n",
       "  <thead>\n",
       "    <tr style=\"text-align: right;\">\n",
       "      <th></th>\n",
       "      <th>0</th>\n",
       "      <th>1</th>\n",
       "    </tr>\n",
       "  </thead>\n",
       "  <tbody>\n",
       "    <tr>\n",
       "      <th>(Понедельник, 1)</th>\n",
       "      <td>ВД</td>\n",
       "      <td>38</td>\n",
       "    </tr>\n",
       "    <tr>\n",
       "      <th>(Понедельник, 2)</th>\n",
       "      <td>мат</td>\n",
       "      <td>38</td>\n",
       "    </tr>\n",
       "    <tr>\n",
       "      <th>(Понедельник, 3)</th>\n",
       "      <td>муз</td>\n",
       "      <td>3</td>\n",
       "    </tr>\n",
       "    <tr>\n",
       "      <th>(Понедельник, 4)</th>\n",
       "      <td>геог</td>\n",
       "      <td>29</td>\n",
       "    </tr>\n",
       "    <tr>\n",
       "      <th>(Понедельник, 5)</th>\n",
       "      <td>анг</td>\n",
       "      <td>30</td>\n",
       "    </tr>\n",
       "    <tr>\n",
       "      <th>(Понедельник, 6)</th>\n",
       "      <td>рус</td>\n",
       "      <td>48</td>\n",
       "    </tr>\n",
       "  </tbody>\n",
       "</table>\n",
       "</div>"
      ],
      "text/plain": [
       "                     0   1\n",
       "(Понедельник, 1)    ВД  38\n",
       "(Понедельник, 2)   мат  38\n",
       "(Понедельник, 3)   муз   3\n",
       "(Понедельник, 4)  геог  29\n",
       "(Понедельник, 5)   анг  30\n",
       "(Понедельник, 6)   рус  48"
      ]
     },
     "execution_count": 55,
     "metadata": {},
     "output_type": "execute_result"
    }
   ],
   "source": [
    "ref = data.loc['5а', [('Понедельник', n) for n in range(1, 9)]].dropna().str.split('\\n').apply(pd.Series)\n",
    "\n",
    "ref"
   ]
  },
  {
   "cell_type": "code",
   "execution_count": 62,
   "metadata": {},
   "outputs": [
    {
     "data": {
      "text/plain": [
       "array([['ВД', '38'],\n",
       "       ['мат', '38'],\n",
       "       ['муз', '3'],\n",
       "       ['геог', '29'],\n",
       "       ['анг', '30'],\n",
       "       ['рус', '48']], dtype=object)"
      ]
     },
     "execution_count": 62,
     "metadata": {},
     "output_type": "execute_result"
    }
   ],
   "source": [
    "ref.rename(columns={0 : 'Предмет', 1 : 'Кабинет'}).values"
   ]
  }
 ],
 "metadata": {
  "kernelspec": {
   "display_name": "Python 3",
   "language": "python",
   "name": "python3"
  },
  "language_info": {
   "codemirror_mode": {
    "name": "ipython",
    "version": 3
   },
   "file_extension": ".py",
   "mimetype": "text/x-python",
   "name": "python",
   "nbconvert_exporter": "python",
   "pygments_lexer": "ipython3",
   "version": "3.9.5"
  }
 },
 "nbformat": 4,
 "nbformat_minor": 2
}
